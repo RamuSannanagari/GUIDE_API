{
 "cells": [
  {
   "cell_type": "code",
   "execution_count": 2,
   "metadata": {
    "collapsed": false
   },
   "outputs": [],
   "source": [
    "from guide.api.etl.datasourceConnection import DataSource"
   ]
  },
  {
   "cell_type": "code",
   "execution_count": 3,
   "metadata": {
    "collapsed": true
   },
   "outputs": [],
   "source": [
    "filename=r\"C:\\Users\\abhi\\Documents\\guide_data2.xlsx\""
   ]
  },
  {
   "cell_type": "code",
   "execution_count": 4,
   "metadata": {
    "collapsed": true
   },
   "outputs": [],
   "source": [
    "etl_obj=DataSource(filename,'excel')"
   ]
  },
  {
   "cell_type": "code",
   "execution_count": 17,
   "metadata": {
    "collapsed": false
   },
   "outputs": [
    {
     "data": {
      "text/plain": [
       "['Sheet1', 'Sheet2', 'Sheet3']"
      ]
     },
     "execution_count": 17,
     "metadata": {},
     "output_type": "execute_result"
    }
   ],
   "source": [
    "etl_obj.getMetaData()['sheet_names']"
   ]
  },
  {
   "cell_type": "code",
   "execution_count": 5,
   "metadata": {
    "collapsed": false
   },
   "outputs": [
    {
     "data": {
      "text/plain": [
       "{'connection': <sqlite3.Connection at 0x8167810>,\n",
       " 'metadata': {},\n",
       " 'sourceType': 'excel',\n",
       " 'source_absolute_path_details': 'C:\\\\Users\\\\abhi\\\\Documents\\\\guide_data2.xlsx'}"
      ]
     },
     "execution_count": 5,
     "metadata": {},
     "output_type": "execute_result"
    }
   ],
   "source": [
    "etl_obj.__dict__"
   ]
  },
  {
   "cell_type": "code",
   "execution_count": 6,
   "metadata": {
    "collapsed": true
   },
   "outputs": [],
   "source": [
    "import json"
   ]
  },
  {
   "cell_type": "code",
   "execution_count": 7,
   "metadata": {
    "collapsed": true
   },
   "outputs": [],
   "source": [
    "request_params={'Connection_name':'customer','Connection_type':'excel'\n",
    "                ,'Connection_parameters':json.dumps({'filename':filename,'sheet_name':'sheet1'})}"
   ]
  },
  {
   "cell_type": "code",
   "execution_count": 8,
   "metadata": {
    "collapsed": false
   },
   "outputs": [
    {
     "data": {
      "text/plain": [
       "{'Connection_name': 'customer',\n",
       " 'Connection_parameters': '{\"filename\": \"C:\\\\\\\\Users\\\\\\\\abhi\\\\\\\\Documents\\\\\\\\guide_data2.xlsx\", \"sheet_name\": \"sheet1\"}',\n",
       " 'Connection_type': 'excel'}"
      ]
     },
     "execution_count": 8,
     "metadata": {},
     "output_type": "execute_result"
    }
   ],
   "source": [
    "request_params"
   ]
  },
  {
   "cell_type": "code",
   "execution_count": 9,
   "metadata": {
    "collapsed": true
   },
   "outputs": [],
   "source": [
    "etl_obj.processRequest('INSERT',request_params)"
   ]
  },
  {
   "cell_type": "code",
   "execution_count": 11,
   "metadata": {
    "collapsed": false
   },
   "outputs": [
    {
     "data": {
      "text/plain": [
       "{'connection': <sqlite3.Connection at 0x8167810>,\n",
       " 'metadata': {},\n",
       " 'operation_status': 0,\n",
       " 'sourceType': 'excel',\n",
       " 'source_absolute_path_details': 'C:\\\\Users\\\\abhi\\\\Documents\\\\guide_data2.xlsx'}"
      ]
     },
     "execution_count": 11,
     "metadata": {},
     "output_type": "execute_result"
    }
   ],
   "source": [
    "etl_obj.__dict__"
   ]
  },
  {
   "cell_type": "code",
   "execution_count": 12,
   "metadata": {
    "collapsed": true
   },
   "outputs": [],
   "source": [
    "etl_obj.showConnections()"
   ]
  },
  {
   "cell_type": "code",
   "execution_count": 13,
   "metadata": {
    "collapsed": false
   },
   "outputs": [
    {
     "data": {
      "text/plain": [
       "[('excel',\n",
       "  'exceldata',\n",
       "  \"{'filename': 'C:\\\\\\\\Users\\\\\\\\abhi\\\\\\\\Documents\\\\\\\\Guide_data.xlsx', 'sheet_name': 'Sheet1'}\"),\n",
       " ('excel',\n",
       "  'csvdata',\n",
       "  '{\"filename\": \"C:\\\\\\\\Users\\\\\\\\abhi\\\\\\\\Documents\\\\\\\\Guide_data.xlsx\", \"sheet_name\": \"Sheet1\"}'),\n",
       " ('excel',\n",
       "  'customer',\n",
       "  '{\"filename\": \"C:\\\\\\\\Users\\\\\\\\abhi\\\\\\\\Documents\\\\\\\\guide_data2.xlsx\", \"sheet_name\": \"sheet1\"}')]"
      ]
     },
     "execution_count": 13,
     "metadata": {},
     "output_type": "execute_result"
    }
   ],
   "source": [
    "etl_obj.result"
   ]
  },
  {
   "cell_type": "code",
   "execution_count": 14,
   "metadata": {
    "collapsed": true
   },
   "outputs": [],
   "source": [
    "etl_obj.showConnectionData('customer')"
   ]
  },
  {
   "cell_type": "code",
   "execution_count": 15,
   "metadata": {
    "collapsed": false
   },
   "outputs": [
    {
     "data": {
      "text/plain": [
       "[('excel',\n",
       "  'customer',\n",
       "  '{\"filename\": \"C:\\\\\\\\Users\\\\\\\\abhi\\\\\\\\Documents\\\\\\\\guide_data2.xlsx\", \"sheet_name\": \"sheet1\"}')]"
      ]
     },
     "execution_count": 15,
     "metadata": {},
     "output_type": "execute_result"
    }
   ],
   "source": [
    "etl_obj.result"
   ]
  },
  {
   "cell_type": "code",
   "execution_count": null,
   "metadata": {
    "collapsed": true
   },
   "outputs": [],
   "source": []
  }
 ],
 "metadata": {
  "kernelspec": {
   "display_name": "Python 3",
   "language": "python",
   "name": "python3"
  },
  "language_info": {
   "codemirror_mode": {
    "name": "ipython",
    "version": 3
   },
   "file_extension": ".py",
   "mimetype": "text/x-python",
   "name": "python",
   "nbconvert_exporter": "python",
   "pygments_lexer": "ipython3",
   "version": "3.6.0"
  }
 },
 "nbformat": 4,
 "nbformat_minor": 2
}
